{
  "nbformat": 4,
  "nbformat_minor": 0,
  "metadata": {
    "colab": {
      "provenance": []
    },
    "kernelspec": {
      "name": "python3",
      "display_name": "Python 3"
    },
    "language_info": {
      "name": "python"
    }
  },
  "cells": [
    {
      "cell_type": "markdown",
      "metadata": {
        "id": "18Sd3XYRbhXL"
      },
      "source": [
        "# Schelling Segregation Models\n",
        "\n",
        "The purpose of this exercise is to get you started on this week's homework assignment.\n",
        "\n",
        "Your goal is to build a model of the Schelling segregation simulation.\n",
        "\n",
        "To do this, we will use:\n",
        "\n",
        "* list comprehensions\n",
        "* lambda functions\n",
        "* classes\n",
        "* class inheritance\n"
      ]
    },
    {
      "cell_type": "code",
      "metadata": {
        "id": "FRWYaSQgckac"
      },
      "source": [
        "# this cell contains some of the libraries that you need to run this model\n",
        "import random\n",
        "import matplotlib.pyplot as plt\n",
        "from IPython import display\n",
        "import time\n",
        "%matplotlib inline\n",
        "random.seed(10) # for reproducible random numbers"
      ],
      "execution_count": null,
      "outputs": []
    },
    {
      "cell_type": "markdown",
      "metadata": {
        "id": "AVKd-7Zocvpn"
      },
      "source": [
        "# Problem 1\n",
        "\n",
        "Define a class called `Agent` using a constructor.\n",
        "\n",
        "The constructor should take 2 arguments that provide attributes called `x` and `y` for the *x-* and *y*-locations of the objects that we create.\n",
        "\n",
        "In the cell below, we have incorrect code that you will need to correct to properly define the class. There are 5 errors in the code (or more, depending on how you count instances of the same error)."
      ]
    },
    {
      "cell_type": "code",
      "metadata": {
        "id": "bJxgAb-KdghL"
      },
      "source": [
        "class Agent():\n",
        "    def __init__(self, xlocation, ylocation):\n",
        "        self.x = xlocation\n",
        "        self.y = ylocation"
      ],
      "execution_count": null,
      "outputs": []
    },
    {
      "cell_type": "markdown",
      "metadata": {
        "id": "vmau6L9peKuV"
      },
      "source": [
        "# Problem 2\n",
        "\n",
        "In the code cell below is a function for plotting the agents we'll create. Don't worry, you won't need to know anything about plotting! All you have to do is use your knowledge of list methods to add the *x-* and *y-*coordinates of the `agent_to_be_plotted` to our lists of coordinates to plot."
      ]
    },
    {
      "cell_type": "code",
      "metadata": {
        "id": "Sbyt2SiPecmF"
      },
      "source": [
        "def map_an_agent(agent_to_be_plotted):\n",
        "    agents_XCoordinate = [] # this is an empty list that will store our X-coordinates, don't change this command\n",
        "    agents_YCoordinate = [] # this is an empty list that will store our y-coordinates, don't change this command\n",
        "\n",
        "    ### in this line add the x attribute of the agent to be plotted to the list agents_XCoordinate. There's a built in list method - you don't need a loop\n",
        "    ### in this line add the y attribute of the agent to be plotted to the list agents_XCoordinate. There's a built in list method - you don't need a loop\n",
        "\n",
        "    fig, ax = plt.subplots(figsize=(5, 5)) # make a space in which to plot\n",
        "    ax.set_facecolor('azure') # make background blue\n",
        "    ax.plot(agents_XCoordinate, agents_YCoordinate, 'o', markerfacecolor='purple') # plot xcoord, ycoord\n",
        "    plt.xlim(-5,105) # sets xaxis limits\n",
        "    plt.ylim(-5,105)\n",
        "    ax.set_title(\"Here's our map of the agents we have created:\")\n",
        "    plt.show()"
      ],
      "execution_count": null,
      "outputs": []
    },
    {
      "cell_type": "markdown",
      "metadata": {
        "id": "Upe2BdC9ei2q"
      },
      "source": [
        "# Problem 3\n",
        "\n",
        "In the code cell below, create an instance of the class `Agent` and assign it to a variable called `agent1`.\n",
        "\n",
        "Give your agent an *x*-position of 22 and a *y*-position of 55.\n",
        "\n",
        "Then, call the `map_an_agent` function to produce a map.  The map that gets made should look like Plot1 in the pdf that comes with this assignment."
      ]
    },
    {
      "cell_type": "code",
      "metadata": {
        "id": "CGAx9yuveiZt"
      },
      "source": [
        "### initialize one agent\n",
        "agent1 = pass\n",
        "### call the function from the prior cell to draw a map of where your agent is"
      ],
      "execution_count": null,
      "outputs": []
    },
    {
      "cell_type": "markdown",
      "metadata": {
        "id": "w9GWWBZDfqzc"
      },
      "source": [
        "Now, instantiate another object from the class `Agent` and assign it to a variable called `agent2`.\n",
        "\n",
        "Give this agent an *x-*position of 66 and a *y-*position of 88.\n",
        "\n",
        "Again, call the `map_an_agent` function to produce a map.  The map that gets made should look like Plot2 in the pdf that comes with this assignment."
      ]
    },
    {
      "cell_type": "code",
      "metadata": {
        "id": "qrICrq6zgEMI"
      },
      "source": [
        "agent2 = pass\n",
        "### call the function to map this agent"
      ],
      "execution_count": null,
      "outputs": []
    },
    {
      "cell_type": "markdown",
      "metadata": {
        "id": "-oNW7lztgRMi"
      },
      "source": [
        "# Problem 4\n",
        "\n",
        "Did you notice that we can only map one agent at a time with our prior function? Let's modify our function so it will map all our agents.\n",
        "\n",
        "The way that we can do this is by passing a list of agents as the input argument for this function. Last time we directly added the attributes into the `agents_XCoordinate` and `agents_YCoordinate` lists.  Let's change that command so that it adds the attributes of *all* the objects in a list.  \n",
        "\n",
        "There are a couple of ways to do this, but for now you can use a `for` loop."
      ]
    },
    {
      "cell_type": "code",
      "metadata": {
        "id": "dgLIX18xgmC1"
      },
      "source": [
        "def map_all_agents():  ### what arguments should go in this function?\n",
        "\n",
        "    agents_XCoordinate = [] # this is an empty list that will store our X-coordinates, don't change this command\n",
        "    agents_YCoordinate = [] # this is an empty list that will store our y-coordinates, don't change this command\n",
        "\n",
        "    ### use a for loop to add all the x attributes from our list of objects to the agents_XCoordinate list and all the y attributes from our list of objects to the agents_YCoordinate list\n",
        "\n",
        "    fig, ax = plt.subplots(figsize=(5, 5))\n",
        "    ax.set_facecolor('azure')\n",
        "    ax.plot(agents_XCoordinate, agents_YCoordinate, 'o', markerfacecolor='purple')\n",
        "    plt.xlim(-5,105)\n",
        "    plt.ylim(-5,105)\n",
        "    ax.set_title(\"Here's our map of the agents we have created:\")\n",
        "    plt.show()"
      ],
      "execution_count": null,
      "outputs": []
    },
    {
      "cell_type": "markdown",
      "metadata": {
        "id": "XKG0ihgRg36G"
      },
      "source": [
        "# Problem 5\n",
        "\n",
        "Now, add the two agents we have created to a list. lets call it `agents_list`.\n",
        "\n",
        "Then, use the function we just created to map those agents. The map you generate should be identical to Plot3 in the pdf."
      ]
    },
    {
      "cell_type": "code",
      "metadata": {
        "id": "7PLCJHushLdT"
      },
      "source": [
        "agents_list = ### add the agents we have created previously to this list\n",
        "### use the function we just created to map our agents"
      ],
      "execution_count": null,
      "outputs": []
    },
    {
      "cell_type": "markdown",
      "metadata": {
        "id": "lpuJHtg4hW0_"
      },
      "source": [
        "Look at the following cell. What do you think will happen when you run it? What will happen if you run it twice? Or three times? What if I told you it would print 73 each time you tried it. Go ahead and try it."
      ]
    },
    {
      "cell_type": "code",
      "metadata": {
        "id": "mB19suQchbmm"
      },
      "source": [
        "random.seed(10)\n",
        "print(random.randint(0,100))"
      ],
      "execution_count": null,
      "outputs": []
    },
    {
      "cell_type": "markdown",
      "metadata": {
        "id": "69LgCvrchfPu"
      },
      "source": [
        "It prints 73, because thats the first random number generated with that command if we use random.seed(10). This is how we will make sure that we have the same output even though the model requires random numbers to move."
      ]
    },
    {
      "cell_type": "markdown",
      "metadata": {
        "id": "Kr6n636AhzQW"
      },
      "source": [
        "# Problem 6\n",
        "\n",
        "Below is a function that randomly updates the attribute of each agent in our list - but I made a mistake in constructing that function. I also made a mistake in how I called the functions in that cell. If you fix those you should see a plot equivalent to Plot4 in the pdf.\n",
        "\n",
        "If you compare Plot3 and Plot4 you will see that the agents moved to their newly defined positions!"
      ]
    },
    {
      "cell_type": "code",
      "metadata": {
        "id": "q1YRxgvnh6Hr"
      },
      "source": [
        "random.seed(32)\n",
        "def moveagents(listofagents):\n",
        "    for each_agent in listofagents:\n",
        "        self.x = random.randint(0,100)\n",
        "        self.y = random.randint(0,100)\n",
        "moveagents(listofagents)\n",
        "map_all_agents(listofagents)"
      ],
      "execution_count": null,
      "outputs": []
    },
    {
      "cell_type": "markdown",
      "metadata": {
        "id": "yNYzOZn2h8tA"
      },
      "source": [
        "# Problem 7\n",
        "\n",
        "Now let's do something fun.\n",
        "\n",
        "Let's move the agents and map them 10 times in a row.\n",
        "\n",
        "Write a loop that will implement these commands. Not every command has to go inside the loop. If your agents aren't 'moving' or your final map doesn't match Plot5 in the pdf, then your order is wrong. Think about the logical way to execute the loop so that the final position of the agents are mapped."
      ]
    },
    {
      "cell_type": "code",
      "metadata": {
        "id": "MqHnoRkyiKLx"
      },
      "source": [
        "### put these commands into a loop that implement them 10 times\n",
        "# not all commands have to go in the loop\n",
        "# these commands are not necessarily in the right order\n",
        "map_all_agents(agents_list)\n",
        "random.seed(66)\n",
        "moveagents(agents_list)\n",
        "time.sleep(1) # keep this command 4th\n",
        "display.clear_output(wait=True) # keep this command last"
      ],
      "execution_count": null,
      "outputs": []
    },
    {
      "cell_type": "markdown",
      "metadata": {
        "id": "lIVEIae4iZZC"
      },
      "source": [
        "# Problem 8\n",
        "\n",
        "Let's make the above loop a function that we can use on any list.\n",
        "\n",
        "Call your function `make_agents_dance`.\n",
        "\n",
        "What arguments should you use for this function if you want it to be generalizabe, meaning it can map *any* list of agents?\n",
        "\n",
        "Also, make the function capable of running for any specified number of steps instead of just 10.\n",
        "\n",
        "Don't forget to make sure that the last graph stays on the screen.  "
      ]
    },
    {
      "cell_type": "code",
      "metadata": {
        "id": "afqtrG5rikcw"
      },
      "source": [
        "def make_agents_dance():\n",
        "    pass"
      ],
      "execution_count": null,
      "outputs": []
    },
    {
      "cell_type": "markdown",
      "metadata": {
        "id": "v2PMeiJ2in4d"
      },
      "source": [
        "# Problem 9\n",
        "\n",
        "Now, use a list comprehension to make 12 agents within a list called `New_List_of_Agents`.\n",
        "\n",
        "Remember that all you need to do make an object of the class `Agent` is provide an *x-*and a *y-*location. Lets use `random.randint(0,100)` to provide each of those values.\n",
        "\n",
        "Check your final output against Plot6 in the pdf."
      ]
    },
    {
      "cell_type": "code",
      "metadata": {
        "id": "uyGRrmPajEl5"
      },
      "source": [
        "random.seed(44)\n",
        "New_List_of_Agents = [???]  ### make 12 agents; use a list comprehension\n",
        "make_agents_dance(New_List_of_Agents, 10)"
      ],
      "execution_count": null,
      "outputs": []
    },
    {
      "cell_type": "markdown",
      "metadata": {
        "id": "CjpLFxNwjVxd"
      },
      "source": [
        "# Problem 10\n",
        "\n",
        "Now let's make a subclass of `Agent` called `AgentNew`.  `AgentNew`, in addition to its *x-* and *y-*coordinate attributes, should also have attributes called 'status' and 'group' that will keep track of which group each instance of `AgentNew` is part of & whether they are 'happy' or 'unhappy'.\n",
        "\n",
        "Use `status=\"unhappy\"` in the constructor to establish a default value of 'unhappy'.\n",
        "\n",
        "There are several errors in the code for defining the class below. Once you have fixed those errors, write a command to print the *x-*coordinate, *y-*coordinate, and group of the last agent in your list.\n",
        "\n",
        "They should be 28, 87, and purple, respectively."
      ]
    },
    {
      "cell_type": "code",
      "metadata": {
        "id": "gQQK0zPJkJeh"
      },
      "source": [
        "class AgentNew(Agent)):\n",
        "    def __init__.(self, group, status=\"unhappy\")\n",
        "        super().__init__(self, x, y)\n",
        "        self.group = group\n",
        "        self.status = status\n",
        "random.seed(23)\n",
        "groups = [\"Purple\", \"Gold\"]\n",
        "list_of_NewAgents = [AgentNew(random.uniform(0,100), random.unifomr(0,100), random.choice(groups)) for x in range(35)]"
      ],
      "execution_count": null,
      "outputs": []
    },
    {
      "cell_type": "code",
      "source": [
        "#### how do i inspect this list to make sure the i have realistic numbers of agents of each group and a random distribution of locations?"
      ],
      "metadata": {
        "id": "D6ERS_zU4PgY"
      },
      "execution_count": null,
      "outputs": []
    },
    {
      "cell_type": "markdown",
      "metadata": {
        "id": "cZBTExA7kPD7"
      },
      "source": [
        "Now lets add 2 methods to these agents\n",
        "\n",
        "\n",
        "*   the ability to tell if they are in the group that is the majority in their immediate vicinity (radius of 3). agents that are in the majority will change their status to \"happy\"\n",
        "*   the ability to randomly take new x & y coordinates\n",
        "\n"
      ]
    }
  ]
}