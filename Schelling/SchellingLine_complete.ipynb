{
  "cells": [
    {
      "cell_type": "markdown",
      "metadata": {
        "id": "sVuBEiRXCC3C"
      },
      "source": [
        "Let's examine a few of these mechanisms. Imagine a line along which blacks\n",
        "and whites (or men and women or Catholics and Protestants) have been distributed\n",
        "in equal numbers and random order, as in\n",
        "the line of plusses and zeros shown below."
      ]
    },
    {
      "cell_type": "code",
      "execution_count": 1,
      "metadata": {
        "id": "_j9lMBTNCCDL"
      },
      "outputs": [],
      "source": [
        "### we will use '+' and '0'\n",
        "import random\n",
        "LineOfRandomDistribution = [random.choice(['+', '0']) for x in range(50)]"
      ]
    },
    {
      "cell_type": "code",
      "execution_count": 2,
      "metadata": {
        "id": "GzvmKw89C2kC"
      },
      "outputs": [
        {
          "name": "stdout",
          "output_type": "stream",
          "text": [
            "['+', '+', '0', '+', '0', '0', '+', '+', '0', '0', '0', '0', '0', '+', '+', '+', '+', '+', '0', '0', '0', '+', '0', '0', '+', '0', '+', '+', '0', '0', '0', '0', '0', '0', '0', '+', '0', '0', '+', '+', '+', '0', '+', '+', '+', '+', '+', '0', '+', '0']\n"
          ]
        }
      ],
      "source": [
        "print(LineOfRandomDistribution)"
      ]
    },
    {
      "cell_type": "code",
      "execution_count": 5,
      "metadata": {
        "id": "WMBVNklMDLu6"
      },
      "outputs": [
        {
          "data": {
            "text/plain": [
              "24"
            ]
          },
          "execution_count": 5,
          "metadata": {},
          "output_type": "execute_result"
        }
      ],
      "source": [
        "len([x for x in LineOfRandomDistribution if x=='0']) ## 26\n",
        "len([x for x in LineOfRandomDistribution if x=='+']) ## 24"
      ]
    },
    {
      "cell_type": "code",
      "execution_count": 6,
      "metadata": {
        "id": "WnD4adCfDtrP"
      },
      "outputs": [
        {
          "data": {
            "text/plain": [
              "4"
            ]
          },
          "execution_count": 6,
          "metadata": {},
          "output_type": "execute_result"
        }
      ],
      "source": [
        "#### identify how many in the same group for each of the 8 sorrounding items for each given item in the list\n",
        "## index 10\n",
        "LineOfRandomDistribution[10]\n",
        "testLine = LineOfRandomDistribution[10-4:10+5]\n",
        "len([x for x in testLine if x == LineOfRandomDistribution[10]])-1"
      ]
    },
    {
      "cell_type": "code",
      "execution_count": 7,
      "metadata": {
        "id": "DGvQvifFFace"
      },
      "outputs": [],
      "source": [
        "def CountSimilarNeighbors(indexPosition):\n",
        "  testLine = LineOfRandomDistribution[indexPosition-4:indexPosition+5]\n",
        "  if indexPosition-4 <0:\n",
        "    #### if indexPosition is 2\n",
        "    #### we want to end at 7\n",
        "    #### we [-2:] + [:7]\n",
        "    ##if index position is 3 we want to end at 8\n",
        "    ### we want [-1:] + [:8]\n",
        "    testLine = LineOfRandomDistribution[(indexPosition-4):] + LineOfRandomDistribution[:(indexPosition+5)]\n",
        "  elif indexPosition + 5 > (len(LineOfRandomDistribution) -1):\n",
        "    ### pretend indexPosition is 48\n",
        "    testLine = LineOfRandomDistribution[(indexPosition-4):] + LineOfRandomDistribution[:(indexPosition+5 - len(LineOfRandomDistribution))]\n",
        "  else:\n",
        "    testLine = LineOfRandomDistribution[indexPosition-4:indexPosition+5]\n",
        "\n",
        "  return len([x for x in testLine if x == LineOfRandomDistribution[indexPosition]])-1"
      ]
    },
    {
      "cell_type": "code",
      "execution_count": 8,
      "metadata": {
        "id": "p1sHDJNZFZc-"
      },
      "outputs": [
        {
          "name": "stdout",
          "output_type": "stream",
          "text": [
            "4 happy\n",
            "3 unhappy\n",
            "3 unhappy\n",
            "4 happy\n",
            "3 unhappy\n",
            "4 happy\n",
            "2 unhappy\n",
            "2 unhappy\n",
            "6 happy\n",
            "5 happy\n",
            "4 happy\n",
            "4 happy\n",
            "4 happy\n",
            "4 happy\n",
            "4 happy\n",
            "4 happy\n",
            "4 happy\n",
            "5 happy\n",
            "3 unhappy\n",
            "4 happy\n",
            "4 happy\n",
            "2 unhappy\n",
            "5 happy\n",
            "4 happy\n",
            "3 unhappy\n",
            "4 happy\n",
            "2 unhappy\n",
            "2 unhappy\n",
            "5 happy\n",
            "6 happy\n",
            "6 happy\n",
            "6 happy\n",
            "7 happy\n",
            "7 happy\n",
            "6 happy\n",
            "2 unhappy\n",
            "4 happy\n",
            "4 happy\n",
            "4 happy\n",
            "5 happy\n",
            "5 happy\n",
            "1 unhappy\n",
            "7 happy\n",
            "6 happy\n",
            "6 happy\n",
            "5 happy\n",
            "6 happy\n",
            "1 unhappy\n",
            "5 happy\n",
            "2 unhappy\n"
          ]
        }
      ],
      "source": [
        "for x in range(len(LineOfRandomDistribution)):\n",
        "  if CountSimilarNeighbors(x) < 4:\n",
        "    print(CountSimilarNeighbors(x), \"unhappy\")\n",
        "  else:\n",
        "    print(CountSimilarNeighbors(x), \"happy\")\n",
        "\n",
        "#### how to swap neighbors if unhappy\n",
        "#. https://tinyurl.com/SchellingLine"
      ]
    },
    {
      "cell_type": "code",
      "execution_count": 9,
      "metadata": {
        "id": "jMoJmDDeOced"
      },
      "outputs": [
        {
          "name": "stdout",
          "output_type": "stream",
          "text": [
            "['+', '+', '+', '+', '+', '+', '0', '0', '+', '0']\n",
            "['+', '+', '+', '+', '+', '+', '0', '0', '+', '0']\n"
          ]
        }
      ],
      "source": [
        "from IPython.core.debugger import linecache\n",
        "'''\n",
        "\n",
        "1. we have a line of items\n",
        "2. we have the ability to determine if any given item is happy or unhappy\n",
        "3. we want to move the the unhappy items (i.e +1 or -1 to index position, the reciprocal operation to the index of the neighbor it displaces)\n",
        "\n",
        "\n",
        "def swapPositions(list, pos1, pos2):\n",
        "\n",
        "    # Storing the two elements\n",
        "    # as a pair in a tuple variable get\n",
        "    get = list[pos1], list[pos2]\n",
        "\n",
        "    # unpacking those elements\n",
        "    list[pos2], list[pos1] = get\n",
        "\n",
        "    return list\n",
        "\n",
        "# Driver Code\n",
        "List = [23, 65, 19, 90]\n",
        "\n",
        "pos1, pos2  = 1, 3\n",
        "print(swapPositions(List, pos1-1, pos2-1))\n",
        "\n",
        "'''\n",
        "LineOfRandomDistribution = [random.choice(['+', '0']) for x in range(50)]\n",
        "print(LineOfRandomDistribution[0:10])\n",
        "def swapPositions(list, pos1, pos2):\n",
        "\n",
        "    # Storing the two elements\n",
        "    # as a pair in a tuple variable get\n",
        "    get = list[pos1], list[pos2]\n",
        "\n",
        "    # unpacking those elements\n",
        "    list[pos2], list[pos1] = get\n",
        "\n",
        "    return list\n",
        "def iterationsofLine(LineOfRandomDistribution):\n",
        "\n",
        "  HappinessList = []\n",
        "  for x in range(len(LineOfRandomDistribution)):\n",
        "    if CountSimilarNeighbors(x) < 4:\n",
        "      HappinessList.append((CountSimilarNeighbors(x), \"unhappy\"))\n",
        "    else:\n",
        "      HappinessList.append((CountSimilarNeighbors(x), \"happy\"))\n",
        "  HappinessList\n",
        "\n",
        "  for x in range(len(HappinessList)):\n",
        "    if (HappinessList[x][1]) == 'unhappy':\n",
        "      if x==0:\n",
        "        LineOfRandomDistribution = swapPositions(LineOfRandomDistribution, x, x+1)\n",
        "      elif x==(len(HappinessList)-1):\n",
        "        LineOfRandomDistribution = swapPositions(LineOfRandomDistribution, x, x-1)\n",
        "      else:\n",
        "        LineOfRandomDistribution = swapPositions(LineOfRandomDistribution, x, random.choice([x+1, x-1]))\n",
        "  return LineOfRandomDistribution\n",
        "\n",
        "print(LineOfRandomDistribution[0:10])\n",
        "\n"
      ]
    },
    {
      "cell_type": "code",
      "execution_count": 10,
      "metadata": {
        "id": "Pou5ddqqTct9"
      },
      "outputs": [
        {
          "name": "stdout",
          "output_type": "stream",
          "text": [
            "['+', '0', '0', '+', '+', '0', '0', '+', '+', '0', '0', '0', '+', '0', '+', '0', '0', '+', '0', '+', '0', '0', '0', '0', '0', '+', '+', '+', '+', '+', '+', '0', '0', '0', '0', '0', '0', '0', '0', '+', '0', '0', '0', '0', '+', '+', '0', '+', '0', '+']\n",
            "   \n",
            "['0', '0', '0', '0', '0', '0', '0', '0', '0', '0', '0', '0', '0', '0', '0', '0', '0', '+', '+', '+', '+', '+', '+', '+', '+', '+', '+', '0', '0', '0', '0', '0', '0', '0', '+', '+', '+', '+', '+', '+', '+', '+', '+', '+', '0', '0', '0', '0', '0', '0']\n"
          ]
        }
      ],
      "source": [
        "LineOfRandomDistribution = [random.choice(['+', '0']) for x in range(50)]\n",
        "print(LineOfRandomDistribution)\n",
        "for x in range(1000):\n",
        "  LineOfRandomDistribution = iterationsofLine(LineOfRandomDistribution)\n",
        "print(\"   \")\n",
        "print(LineOfRandomDistribution)\n"
      ]
    },
    {
      "cell_type": "code",
      "execution_count": 11,
      "metadata": {
        "id": "3cbFttwcQTr-"
      },
      "outputs": [
        {
          "name": "stdout",
          "output_type": "stream",
          "text": [
            "[23, 90, 19, 65]\n"
          ]
        }
      ],
      "source": [
        "def swapPositions(list, pos1, pos2):\n",
        "\n",
        "    # Storing the two elements\n",
        "    # as a pair in a tuple variable get\n",
        "    get = list[pos1], list[pos2]\n",
        "\n",
        "    # unpacking those elements\n",
        "    list[pos2], list[pos1] = get\n",
        "\n",
        "    return list\n",
        "List1 = [23, 65, 19, 90]\n",
        "List2 = swapPositions(List1, 1,3)\n",
        "print(List2)\n"
      ]
    }
  ],
  "metadata": {
    "colab": {
      "private_outputs": true,
      "provenance": []
    },
    "kernelspec": {
      "display_name": "Python 3",
      "name": "python3"
    },
    "language_info": {
      "codemirror_mode": {
        "name": "ipython",
        "version": 3
      },
      "file_extension": ".py",
      "mimetype": "text/x-python",
      "name": "python",
      "nbconvert_exporter": "python",
      "pygments_lexer": "ipython3",
      "version": "3.8.9"
    }
  },
  "nbformat": 4,
  "nbformat_minor": 0
}
