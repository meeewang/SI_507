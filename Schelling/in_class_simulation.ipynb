{
  "nbformat": 4,
  "nbformat_minor": 0,
  "metadata": {
    "colab": {
      "provenance": []
    },
    "kernelspec": {
      "name": "python3",
      "display_name": "Python 3"
    },
    "language_info": {
      "name": "python"
    }
  },
  "cells": [
    {
      "cell_type": "code",
      "execution_count": null,
      "metadata": {
        "colab": {
          "base_uri": "https://localhost:8080/"
        },
        "id": "MAiyM2VjCche",
        "outputId": "e133f8bf-39c1-4dd6-b24b-7dddf0710ea4"
      },
      "outputs": [
        {
          "output_type": "stream",
          "name": "stdout",
          "text": [
            "['+', '+', '+', '+', '+', '0', '0', '+', '0', '+', '+', '0', '0', '0', '+', '0', '0', '0', '+', '+', '+', '+', '+', '0', '+', '+', '+', '+', '0', '0', '+', '0', '0', '0', '+', '+', '+', '+', '0', '+', '+', '+', '+', '+', '+', '0', '+', '+', '0', '0']\n"
          ]
        }
      ],
      "source": [
        "### Well use '+' and '0'\n",
        "import random\n",
        "LineOfRandomDistribution = [random.choice(['+', '0']) for x in range(50)]\n",
        "print(LineOfRandomDistribution)"
      ]
    },
    {
      "cell_type": "code",
      "source": [
        "len([x for x in LineOfRandomDistribution if x == '+'])\n"
      ],
      "metadata": {
        "colab": {
          "base_uri": "https://localhost:8080/"
        },
        "id": "JLLljprDDXh8",
        "outputId": "4551c32f-822d-47f3-b1c1-195758a607e1"
      },
      "execution_count": null,
      "outputs": [
        {
          "output_type": "execute_result",
          "data": {
            "text/plain": [
              "31"
            ]
          },
          "metadata": {},
          "execution_count": 7
        }
      ]
    },
    {
      "cell_type": "code",
      "source": [
        "len([x for x in LineOfRandomDistribution if x == '0'])"
      ],
      "metadata": {
        "colab": {
          "base_uri": "https://localhost:8080/"
        },
        "id": "OGPTUHnHDvdV",
        "outputId": "0f407f70-2500-4080-eafd-d8cf51e53e32"
      },
      "execution_count": null,
      "outputs": [
        {
          "output_type": "execute_result",
          "data": {
            "text/plain": [
              "19"
            ]
          },
          "metadata": {},
          "execution_count": 6
        }
      ]
    },
    {
      "cell_type": "code",
      "source": [
        "### identify how many in the same group for each of the 8 surrounding items for each given item in the list\n",
        "### index10\n",
        "\n",
        "LineOfRandomDistribution[10]\n",
        "testLine = LineOfRandomDistribution[10-4:10+5]\n",
        "len([x for x in testLine if x == LineOfRandomDistribution[10]])-1\n"
      ],
      "metadata": {
        "colab": {
          "base_uri": "https://localhost:8080/"
        },
        "id": "-9WKXLw_D1nD",
        "outputId": "d6d03ee7-a622-4a40-c442-b8829190d48f"
      },
      "execution_count": null,
      "outputs": [
        {
          "output_type": "execute_result",
          "data": {
            "text/plain": [
              "3"
            ]
          },
          "metadata": {},
          "execution_count": 14
        }
      ]
    },
    {
      "cell_type": "code",
      "source": [
        "def ConuntNbr(indexPosition):\n",
        "  testLine = LineOfRandomDistribution[indexPosition-4:indexPosition+5]\n",
        "  if indexPosition - 4 < 0:\n",
        "  ### if indexPosition is 2\n",
        "  ### we want to end at 7\n",
        "    testLine = LineOfRandomDistribution[(indexPosition-4):] + LineOfRandomDistribution[:(indexPosition +5)]\n",
        "  elif indexPosition + 5 > len(LineOfRandomDistribution) - 1:\n",
        "    testLine = LineOfRandomDistribution[(indexPosition-4):] + LineOfRandomDistribution[:(indexPosition +5 - len(LineOfRandomDistribution))]\n",
        "\n",
        "  else:\n",
        "    testLine = LineOfRandomDistribution[indexPosition-4: indexPosition +5]\n",
        "\n",
        "  return len([x for x in testLine if x == LineOfRandomDistribution[indexPosition]])-1\n"
      ],
      "metadata": {
        "id": "V6tss-ceGeJs"
      },
      "execution_count": 16,
      "outputs": []
    },
    {
      "cell_type": "code",
      "source": [
        "for x in range(len(LineOfRandomDistribution)):\n",
        "  if ConuntNbr(x) < 4:\n",
        "    print(ConuntNbr(x), \"unhappy\")\n",
        "  else:\n",
        "    print(ConuntNbr(x), \"happy\")\n",
        "\n",
        "\n",
        "### how to swap neighbors if unhappy\n",
        "'''\n",
        "\n",
        "1. we have a line of items\n",
        "2. we have the ability to determine if any given item is happy or unhappy\n",
        "3. we want to move the the unhappy items (i.e +1 or -1 to index position, the reciprocal operation to the index of the neighbor it displaces)\n",
        "\n",
        "def swapPositions(list, pos1, pos2):\n",
        "\n",
        "    # Storing the two elements\n",
        "    # as a pair in a tuple variable get\n",
        "    get = list[pos1], list[pos2]\n",
        "\n",
        "    # unpacking those elements\n",
        "    list[pos2], list[pos1] = get\n",
        "\n",
        "    return list\n",
        "\n",
        "# Driver Code\n",
        "List = [23, 65, 19, 90]\n",
        "\n",
        "pos1, pos2  = 1, 3\n",
        "print(swapPositions(List, pos1-1, pos2-1))\n",
        "\n",
        "'''\n"
      ],
      "metadata": {
        "id": "EFhIWATpGkwm",
        "colab": {
          "base_uri": "https://localhost:8080/"
        },
        "outputId": "c0b50db7-2039-4891-8310-5c2d2547f797"
      },
      "execution_count": 17,
      "outputs": [
        {
          "output_type": "stream",
          "name": "stdout",
          "text": [
            "6 happy\n",
            "5 happy\n",
            "4 happy\n",
            "5 happy\n",
            "5 happy\n",
            "2 unhappy\n",
            "2 unhappy\n",
            "4 happy\n",
            "4 happy\n",
            "2 unhappy\n",
            "3 unhappy\n",
            "4 happy\n",
            "5 happy\n",
            "5 happy\n",
            "2 unhappy\n",
            "5 happy\n",
            "4 happy\n",
            "3 unhappy\n",
            "5 happy\n",
            "4 happy\n",
            "5 happy\n",
            "6 happy\n",
            "7 happy\n",
            "0 unhappy\n",
            "6 happy\n",
            "5 happy\n",
            "5 happy\n",
            "4 happy\n",
            "3 unhappy\n",
            "4 happy\n",
            "3 unhappy\n",
            "4 happy\n",
            "4 happy\n",
            "3 unhappy\n",
            "4 happy\n",
            "4 happy\n",
            "5 happy\n",
            "6 happy\n",
            "0 unhappy\n",
            "7 happy\n",
            "7 happy\n",
            "6 happy\n",
            "6 happy\n",
            "7 happy\n",
            "6 happy\n",
            "2 unhappy\n",
            "5 happy\n",
            "5 happy\n",
            "2 unhappy\n",
            "2 unhappy\n"
          ]
        }
      ]
    }
  ]
}