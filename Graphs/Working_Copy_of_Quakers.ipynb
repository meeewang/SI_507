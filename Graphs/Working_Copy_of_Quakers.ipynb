{
  "cells": [
    {
      "cell_type": "code",
      "execution_count": null,
      "metadata": {
        "colab": {
          "base_uri": "https://localhost:8080/"
        },
        "id": "ThHsGxrRqrKY",
        "outputId": "44d2418d-21d4-4c4b-ca0b-ee91caaaf2e5"
      },
      "outputs": [
        {
          "name": "stdout",
          "output_type": "stream",
          "text": [
            "Cloning into 'Quaker'...\n",
            "remote: Enumerating objects: 7, done.\u001b[K\n",
            "remote: Counting objects: 100% (7/7), done.\u001b[K\n",
            "remote: Compressing objects: 100% (7/7), done.\u001b[K\n",
            "remote: Total 7 (delta 0), reused 0 (delta 0), pack-reused 0\u001b[K\n",
            "Receiving objects: 100% (7/7), 5.45 KiB | 1.82 MiB/s, done.\n"
          ]
        }
      ],
      "source": [
        "!git clone https://github.com/umsi-amadaman/Quaker.git"
      ]
    },
    {
      "cell_type": "markdown",
      "metadata": {
        "id": "P60K4hnJH6xE"
      },
      "source": [
        "**https://tinyurl.com/quak507-2**\n",
        "\n",
        "*   Click on the folder icon to the left to see what hte file names are.\n",
        "*   Open those files and visually inspect the context to figure out how to organize into a network"
      ]
    },
    {
      "cell_type": "code",
      "execution_count": 22,
      "metadata": {
        "colab": {
          "base_uri": "https://localhost:8080/",
          "height": 52
        },
        "id": "IKjE6e5DCXeQ",
        "outputId": "5c915ec1-18d9-4350-c049-0c5d8e376312"
      },
      "outputs": [
        {
          "data": {
            "text/plain": [
              "\"\\nimport csv\\nwith open('eggs.csv', newline='') as csvfile:\\n    spamreader = csv.reader(csvfile, delimiter=' ', quotechar='|')\\n    for row in spamreader:\\n        print(', '.join(row))\\n\""
            ]
          },
          "execution_count": 22,
          "metadata": {},
          "output_type": "execute_result"
        }
      ],
      "source": [
        "import csv\n",
        "\n",
        "'''\n",
        "vertices = []\n",
        "with open('/content/Quaker/quakers_vertexlist.csv', 'r') as vertexcsv:\n",
        "  vertexreader = csv.reader(vertexcsv, delimiter=',')\n",
        "  for row in vertexreader:\n",
        "    vertices.append(row[0])\n",
        "vertices = vertices[1:]\n",
        "'''\n",
        "with open('/Users/melodywang/Dropbox (University of Michigan)/SI507/Graphs/quakers_vertexlist.csv', 'r') as vertexcsv:\n",
        "    vertexreader = csv.reader(vertexcsv, delimiter=',')\n",
        "    vertices = [row[0] for row in vertexreader][1:]\n",
        "\n",
        "\n",
        "\n",
        "with open('/Users/melodywang/Dropbox (University of Michigan)/SI507/Graphs/quakers_edgelist.csv', 'r') as edgecsv:\n",
        "    edgereader = csv.reader(edgecsv, delimiter=',')\n",
        "    edges = [tuple(row) for row in edgereader][1:]\n",
        "'''\n",
        "import csv\n",
        "with open('eggs.csv', newline='') as csvfile:\n",
        "    spamreader = csv.reader(csvfile, delimiter=' ', quotechar='|')\n",
        "    for row in spamreader:\n",
        "        print(', '.join(row))\n",
        "'''"
      ]
    },
    {
      "cell_type": "code",
      "execution_count": 23,
      "metadata": {
        "colab": {
          "base_uri": "https://localhost:8080/"
        },
        "id": "AmrOqTeGB_8O",
        "outputId": "5caadd4a-9af7-4216-a0fd-5bcd5fad879e"
      },
      "outputs": [
        {
          "data": {
            "text/plain": [
              "[('George Keith', 'Robert Barclay'),\n",
              " ('George Keith', 'Benjamin Furly'),\n",
              " ('George Keith', 'Anne Conway Viscountess Conway and Killultagh'),\n",
              " ('George Keith', 'Franciscus Mercurius van Helmont'),\n",
              " ('George Keith', 'William Penn'),\n",
              " ('George Keith', 'George Fox'),\n",
              " ('George Keith', 'George Whitehead'),\n",
              " ('George Keith', 'William Bradford'),\n",
              " ('James Parnel', 'Benjamin Furly'),\n",
              " ('James Parnel', 'Stephen Crisp')]"
            ]
          },
          "execution_count": 23,
          "metadata": {},
          "output_type": "execute_result"
        }
      ],
      "source": [
        "edges[0:10]"
      ]
    },
    {
      "cell_type": "code",
      "execution_count": 24,
      "metadata": {
        "id": "Tqjn5MPmo-Im"
      },
      "outputs": [],
      "source": [
        "### define minimum Graph & Vertex objects.\n",
        "### what attributes & methods do you need?\n",
        "class Vertex:\n",
        "  def __init__(self, value):\n",
        "    self.id = value\n",
        "    self.connectedTo = {}\n",
        "    self.degree = 0\n",
        "  def addNeighbor(self, nbr, weight=0):\n",
        "    self.connectedTo[nbr]= weight\n",
        "  def getId(self):\n",
        "    return self.id\n",
        "  def calcDegree(self):\n",
        "    self.degree = len(self.connectedTo.keys())\n",
        "\n",
        "  def __str__(self):\n",
        "    return str(self.id) + 'is connected to ' + str([x for x in self.connectedTo.keys()])\n",
        "\n",
        "class Graph:\n",
        "  def __init__(self):\n",
        "    self.vertList = {}\n",
        "    self.numVertices = 0\n",
        "\n",
        "  def addVertex(self, key):\n",
        "    self.numVertices += 1\n",
        "    newVertex = Vertex(key)\n",
        "    self.vertList[key] = newVertex\n",
        "    return newVertex\n",
        "\n",
        "  def addEdge(self, f, t, weight=0):\n",
        "    if f not in self.vertList:\n",
        "      nv = self.addVertex(f)\n",
        "    if t not in self.vertList:\n",
        "      nv = self.addVertex(t)\n",
        "    self.vertList[f].addNeighbor(self.vertList[t], weight = 0)\n",
        "\n",
        "\n"
      ]
    },
    {
      "cell_type": "code",
      "execution_count": 4,
      "metadata": {
        "id": "1B3FXm2drumH"
      },
      "outputs": [],
      "source": [
        "g = Graph()\n",
        "for i in range(5):\n",
        "    g.addVertex(i)\n",
        "g.addEdge(0,1,5)\n",
        "g.addEdge(0,5,2)"
      ]
    },
    {
      "cell_type": "code",
      "execution_count": 25,
      "metadata": {
        "colab": {
          "base_uri": "https://localhost:8080/"
        },
        "id": "gnSaGneiKk0-",
        "outputId": "35bca5fd-7456-44bf-8df9-22ba25e7d615"
      },
      "outputs": [
        {
          "data": {
            "text/plain": [
              "['Joseph Wyeth',\n",
              " 'Alexander Skene of Newtyle',\n",
              " 'James Logan',\n",
              " 'Dorcas Erbery',\n",
              " 'Lilias Skene',\n",
              " 'William Mucklow',\n",
              " 'Thomas Salthouse',\n",
              " 'William Dewsbury',\n",
              " 'John Audland',\n",
              " 'Richard Claridge']"
            ]
          },
          "execution_count": 25,
          "metadata": {},
          "output_type": "execute_result"
        }
      ],
      "source": [
        "verticesTest = vertices[0:10]\n",
        "edgesTest = edges[0:10]\n",
        "verticesTest"
      ]
    },
    {
      "cell_type": "code",
      "execution_count": 26,
      "metadata": {
        "colab": {
          "base_uri": "https://localhost:8080/"
        },
        "id": "kjCNuF94Lx7O",
        "outputId": "81fdf362-6b11-4e36-bee6-9a51f9c7eeb1"
      },
      "outputs": [
        {
          "data": {
            "text/plain": [
              "['Joseph Wyeth',\n",
              " 'Alexander Skene of Newtyle',\n",
              " 'James Logan',\n",
              " 'Dorcas Erbery',\n",
              " 'Lilias Skene',\n",
              " 'William Mucklow',\n",
              " 'Thomas Salthouse',\n",
              " 'William Dewsbury',\n",
              " 'John Audland',\n",
              " 'Richard Claridge']"
            ]
          },
          "execution_count": 26,
          "metadata": {},
          "output_type": "execute_result"
        }
      ],
      "source": [
        "verticesTest"
      ]
    },
    {
      "cell_type": "code",
      "execution_count": 14,
      "metadata": {
        "colab": {
          "base_uri": "https://localhost:8080/"
        },
        "id": "4mIR0skHM1uv",
        "outputId": "7f9d848f-2c12-4496-8ad1-b933272f8fab"
      },
      "outputs": [
        {
          "data": {
            "text/plain": [
              "{}"
            ]
          },
          "execution_count": 14,
          "metadata": {},
          "output_type": "execute_result"
        }
      ],
      "source": [
        "quakers = Graph()\n",
        "for v in verticesTest:\n",
        "  quakers.addVertex(v)\n",
        "\n",
        "for f,t in edgesTest:\n",
        "  quakers.addEdge(f, t)\n",
        "quakers.numVertices\n",
        "\n"
      ]
    },
    {
      "cell_type": "code",
      "execution_count": 37,
      "metadata": {
        "id": "dPBzpIqINli2"
      },
      "outputs": [],
      "source": [
        "quakers = Graph()\n",
        "for v in vertices:\n",
        "  quakers.addVertex(v)\n",
        "'''\n",
        "for e in edgesTest:\n",
        "  quakers.addEdge(e[0], e[1])\n",
        "'''\n",
        "for f,t in edges:\n",
        "  quakers.addEdge(f, t)"
      ]
    },
    {
      "cell_type": "code",
      "execution_count": 39,
      "metadata": {},
      "outputs": [
        {
          "data": {
            "text/plain": [
              "{<__main__.Vertex at 0x107a23be0>: 0,\n",
              " <__main__.Vertex at 0x107d97460>: 0,\n",
              " <__main__.Vertex at 0x10785a5e0>: 0,\n",
              " <__main__.Vertex at 0x107cb6790>: 0,\n",
              " <__main__.Vertex at 0x107b34790>: 0,\n",
              " <__main__.Vertex at 0x107d9c2e0>: 0,\n",
              " <__main__.Vertex at 0x107dfc970>: 0,\n",
              " <__main__.Vertex at 0x107a1d5e0>: 0}"
            ]
          },
          "execution_count": 39,
          "metadata": {},
          "output_type": "execute_result"
        }
      ],
      "source": [
        "quakers.vertList['George Keith'].connectedTo"
      ]
    },
    {
      "cell_type": "code",
      "execution_count": 40,
      "metadata": {
        "colab": {
          "base_uri": "https://localhost:8080/"
        },
        "id": "X_Nogsp_Nrbm",
        "outputId": "382515d7-f50f-4ca0-aa94-6f2481606f03"
      },
      "outputs": [
        {
          "data": {
            "text/plain": [
              "119"
            ]
          },
          "execution_count": 40,
          "metadata": {},
          "output_type": "execute_result"
        }
      ],
      "source": [
        "quakers.numVertices"
      ]
    },
    {
      "cell_type": "code",
      "execution_count": 47,
      "metadata": {
        "colab": {
          "base_uri": "https://localhost:8080/"
        },
        "id": "TgxoUTRCN4Aa",
        "outputId": "e12d86aa-6cf6-462f-8b5f-8c6326c7132c"
      },
      "outputs": [
        {
          "name": "stdout",
          "output_type": "stream",
          "text": [
            "Joseph Wyeth 1\n",
            "Alexander Skene of Newtyle 1\n",
            "James Logan 3\n",
            "Dorcas Erbery 1\n",
            "Lilias Skene 0\n",
            "William Mucklow 1\n",
            "Thomas Salthouse 1\n",
            "William Dewsbury 3\n",
            "John Audland 6\n",
            "Richard Claridge 0\n",
            "William Bradford 2\n",
            "Fettiplace Bellers 0\n",
            "John Bellers 1\n",
            "Isabel Yeamans 1\n",
            "George Fox the younger 1\n",
            "George Fox 17\n",
            "John Stubbs 4\n",
            "Anne Camm 0\n",
            "John Camm 3\n",
            "Thomas Camm 2\n",
            "Katharine Evans 1\n",
            "Lydia Lancaster 1\n",
            "Samuel Clarridge 1\n",
            "Thomas Lower 1\n",
            "Gervase Benson 1\n",
            "Stephen Crisp 2\n",
            "James Claypoole 0\n",
            "Thomas Holme 0\n",
            "John Freame 1\n",
            "John Swinton 1\n",
            "William Mead 1\n",
            "Henry Pickworth 1\n",
            "John Crook 2\n",
            "Gilbert Latey 2\n",
            "Ellis Hookes 0\n",
            "Joseph Besse 2\n",
            "James Nayler 12\n",
            "Elizabeth Hooten 0\n",
            "George Whitehead 6\n",
            "John Whitehead 0\n",
            "William Crouch 0\n",
            "Benjamin Furly 4\n",
            "Silvanus Bevan 1\n",
            "Robert Rich 1\n",
            "John Whiting 1\n",
            "Christopher Taylor 0\n",
            "Thomas Lawson 2\n",
            "Richard Farnworth 3\n",
            "William Coddington 0\n",
            "Thomas Taylor 1\n",
            "Richard Vickris 1\n",
            "Robert Barclay 1\n",
            "Jane Sowle 1\n",
            "Tace Sowle 0\n",
            "Leonard Fell 0\n",
            "Margaret Fell 3\n",
            "George Bishop 0\n",
            "Elizabeth Leavens 1\n",
            "Thomas Curtis 3\n",
            "Alice Curwen 0\n",
            "Alexander Parker 1\n",
            "John Wilkinson 4\n",
            "Thomas Aldam 1\n",
            "David Barclay of Ury 0\n",
            "David Barclay 0\n",
            "Sir Charles Wager 0\n",
            "George Keith 8\n",
            "James Parnel 2\n",
            "Peter Collinson 2\n",
            "Franciscus Mercurius van Helmont 1\n",
            "William Caton 1\n",
            "Francis Howgill 6\n",
            "Richard Hubberthorne 2\n",
            "William Ames 1\n",
            "William Rogers 2\n",
            "Isaac Norris 1\n",
            "Anthony Sharp 3\n",
            "Mary Fisher 2\n",
            "Anne Conway Viscountess Conway and Killultagh 0\n",
            "Samuel Fisher 0\n",
            "Francis Bugg 1\n",
            "Sarah Gibbons 1\n",
            "William Tomlinson 0\n",
            "Humphrey Norton 1\n",
            "William Gibson 1\n",
            "Gideon Wanton 1\n",
            "John Wanton 0\n",
            "Grace Chamber 0\n",
            "Mary Prince 1\n",
            "John Bartram 0\n",
            "Edward Haistwell 1\n",
            "John ap John 1\n",
            "John Rous 0\n",
            "Anthony Pearson 0\n",
            "Solomon Eccles 1\n",
            "John Burnyeat 2\n",
            "Edward Burrough 3\n",
            "Rebecca Travers 2\n",
            "William Edmundson 0\n",
            "Sarah Cheevers 0\n",
            "Edward Pyott 0\n",
            "Daniel Quare 0\n",
            "John Penington 1\n",
            "Mary Penington 2\n",
            "Charles Marshall 0\n",
            "Humphrey Woolrich 1\n",
            "William Penn 7\n",
            "Mary Pennyman 0\n",
            "Dorothy Waugh 0\n",
            "David Lloyd 0\n",
            "Lewis Morris 1\n",
            "Martha Simmonds 2\n",
            "John Story 1\n",
            "Thomas Story 0\n",
            "Thomas Ellwood 0\n",
            "William Simpson 0\n",
            "Samuel Bownas 0\n",
            "John Perrot 0\n",
            "Hannah Stranger 0\n"
          ]
        }
      ],
      "source": [
        "ConnectedQuakers = {}\n",
        "for x in quakers.vertList.keys():\n",
        "  quakers.vertList[x].calcDegree()\n",
        "  print(quakers.vertList[x].id, quakers.vertList[x].degree)\n",
        "  ConnectedQuakers[quakers.vertList[x].id] = quakers.vertList[x].degree"
      ]
    },
    {
      "cell_type": "code",
      "execution_count": 42,
      "metadata": {
        "id": "98GBlKLYtbA_"
      },
      "outputs": [
        {
          "data": {
            "text/plain": [
              "{'Joseph Wyeth': 1,\n",
              " 'Alexander Skene of Newtyle': 1,\n",
              " 'James Logan': 3,\n",
              " 'Dorcas Erbery': 1,\n",
              " 'Lilias Skene': 0,\n",
              " 'William Mucklow': 1,\n",
              " 'Thomas Salthouse': 1,\n",
              " 'William Dewsbury': 3,\n",
              " 'John Audland': 6,\n",
              " 'Richard Claridge': 0,\n",
              " 'William Bradford': 2,\n",
              " 'Fettiplace Bellers': 0,\n",
              " 'John Bellers': 1,\n",
              " 'Isabel Yeamans': 1,\n",
              " 'George Fox the younger': 1,\n",
              " 'George Fox': 17,\n",
              " 'John Stubbs': 4,\n",
              " 'Anne Camm': 0,\n",
              " 'John Camm': 3,\n",
              " 'Thomas Camm': 2,\n",
              " 'Katharine Evans': 1,\n",
              " 'Lydia Lancaster': 1,\n",
              " 'Samuel Clarridge': 1,\n",
              " 'Thomas Lower': 1,\n",
              " 'Gervase Benson': 1,\n",
              " 'Stephen Crisp': 2,\n",
              " 'James Claypoole': 0,\n",
              " 'Thomas Holme': 0,\n",
              " 'John Freame': 1,\n",
              " 'John Swinton': 1,\n",
              " 'William Mead': 1,\n",
              " 'Henry Pickworth': 1,\n",
              " 'John Crook': 2,\n",
              " 'Gilbert Latey': 2,\n",
              " 'Ellis Hookes': 0,\n",
              " 'Joseph Besse': 2,\n",
              " 'James Nayler': 12,\n",
              " 'Elizabeth Hooten': 0,\n",
              " 'George Whitehead': 6,\n",
              " 'John Whitehead': 0,\n",
              " 'William Crouch': 0,\n",
              " 'Benjamin Furly': 4,\n",
              " 'Silvanus Bevan': 1,\n",
              " 'Robert Rich': 1,\n",
              " 'John Whiting': 1,\n",
              " 'Christopher Taylor': 0,\n",
              " 'Thomas Lawson': 2,\n",
              " 'Richard Farnworth': 3,\n",
              " 'William Coddington': 0,\n",
              " 'Thomas Taylor': 1,\n",
              " 'Richard Vickris': 1,\n",
              " 'Robert Barclay': 1,\n",
              " 'Jane Sowle': 1,\n",
              " 'Tace Sowle': 0,\n",
              " 'Leonard Fell': 0,\n",
              " 'Margaret Fell': 3,\n",
              " 'George Bishop': 0,\n",
              " 'Elizabeth Leavens': 1,\n",
              " 'Thomas Curtis': 3,\n",
              " 'Alice Curwen': 0,\n",
              " 'Alexander Parker': 1,\n",
              " 'John Wilkinson': 4,\n",
              " 'Thomas Aldam': 1,\n",
              " 'David Barclay of Ury': 0,\n",
              " 'David Barclay': 0,\n",
              " 'Sir Charles Wager': 0,\n",
              " 'George Keith': 8,\n",
              " 'James Parnel': 2,\n",
              " 'Peter Collinson': 2,\n",
              " 'Franciscus Mercurius van Helmont': 1,\n",
              " 'William Caton': 1,\n",
              " 'Francis Howgill': 6,\n",
              " 'Richard Hubberthorne': 2,\n",
              " 'William Ames': 1,\n",
              " 'William Rogers': 2,\n",
              " 'Isaac Norris': 1,\n",
              " 'Anthony Sharp': 3,\n",
              " 'Mary Fisher': 2,\n",
              " 'Anne Conway Viscountess Conway and Killultagh': 0,\n",
              " 'Samuel Fisher': 0,\n",
              " 'Francis Bugg': 1,\n",
              " 'Sarah Gibbons': 1,\n",
              " 'William Tomlinson': 0,\n",
              " 'Humphrey Norton': 1,\n",
              " 'William Gibson': 1,\n",
              " 'Gideon Wanton': 1,\n",
              " 'John Wanton': 0,\n",
              " 'Grace Chamber': 0,\n",
              " 'Mary Prince': 1,\n",
              " 'John Bartram': 0,\n",
              " 'Edward Haistwell': 1,\n",
              " 'John ap John': 1,\n",
              " 'John Rous': 0,\n",
              " 'Anthony Pearson': 0,\n",
              " 'Solomon Eccles': 1,\n",
              " 'John Burnyeat': 2,\n",
              " 'Edward Burrough': 3,\n",
              " 'Rebecca Travers': 2,\n",
              " 'William Edmundson': 0,\n",
              " 'Sarah Cheevers': 0,\n",
              " 'Edward Pyott': 0,\n",
              " 'Daniel Quare': 0,\n",
              " 'John Penington': 1,\n",
              " 'Mary Penington': 2,\n",
              " 'Charles Marshall': 0,\n",
              " 'Humphrey Woolrich': 1,\n",
              " 'William Penn': 7,\n",
              " 'Mary Pennyman': 0,\n",
              " 'Dorothy Waugh': 0,\n",
              " 'David Lloyd': 0,\n",
              " 'Lewis Morris': 1,\n",
              " 'Martha Simmonds': 2,\n",
              " 'John Story': 1,\n",
              " 'Thomas Story': 0,\n",
              " 'Thomas Ellwood': 0,\n",
              " 'William Simpson': 0,\n",
              " 'Samuel Bownas': 0,\n",
              " 'John Perrot': 0,\n",
              " 'Hannah Stranger': 0}"
            ]
          },
          "execution_count": 42,
          "metadata": {},
          "output_type": "execute_result"
        }
      ],
      "source": [
        "### Find the most connected Quaker\n",
        "ConnectedQuakers"
      ]
    },
    {
      "cell_type": "code",
      "execution_count": null,
      "metadata": {
        "id": "iMPeNP-zDIsm"
      },
      "outputs": [],
      "source": [
        "### Find the Quaker with the highest Betweenness centrality\n",
        "######## which Quaker is on the most shortest path?\n",
        "############# Should we use BFS or DFS?"
      ]
    },
    {
      "cell_type": "code",
      "execution_count": 50,
      "metadata": {
        "id": "3wBlzBo5J8XF"
      },
      "outputs": [],
      "source": [
        "#### previously we developed this BFS that works on adjacency lists\n",
        "### we need to work with our user-defined graph & vertex objects\n",
        "### we also need to keep track of whether we're on the shortest path or not.\n",
        "\n",
        "def calculate_betweenness_centrality(graph):\n",
        "    betweenness_centrality = {} #creating a dictionary for keeping track of results\n",
        "    vertices = list(graph.vertList.keys()) # making a list of the vertices\n",
        "    n = len(vertices) #lenght of vertices in that graph\n",
        "\n",
        "    for node in vertices: #for each item in the list of vertexes in the graph aka for each vertex\n",
        "        distances = {v: -1 for v in vertices} # a dict of distances betwen Node and all other vertices\n",
        "        shortest_paths = {v: [] for v in vertices} # a dictionary that stores the shortest path to all other vertices\n",
        "        num_shortest_paths = {v: 0 for v in vertices} ### what is this?\n",
        "\n",
        "        BFS(graph, node, distances, shortest_paths, num_shortest_paths)\n",
        "\n",
        "        dependency = {v: 0.0 for v in vertices} ## some kind of score\n",
        "        for current_vertex in reversed(vertices):  # iterating through list of vertices again\n",
        "            for predecessor in shortest_paths[current_vertex]:  # check to see if P is part of shortest path for 'current vertex'\n",
        "                dependency[predecessor] += (num_shortest_paths[predecessor] / num_shortest_paths[current_vertex]) * (1 + dependency[current_vertex])\n",
        "            if current_vertex != node:\n",
        "                if current_vertex not in betweenness_centrality:\n",
        "                    betweenness_centrality[current_vertex] = 0.0\n",
        "                betweenness_centrality[current_vertex] += dependency[current_vertex]\n",
        "\n",
        "    return betweenness_centrality\n",
        "'''\n",
        "discovered = [False] * n\n",
        "from collections import deque\n",
        "def BFS_AdjLists(graph, v, discovered):\n",
        "  q = deque()\n",
        "  discovered[v] = True\n",
        "  q.append(v)\n",
        "\n",
        "  while q:\n",
        "    v = q.popleft()\n",
        "    for u in graph.adjList[v]:\n",
        "      if not discovered[u]:\n",
        "        discovered[u] = True\n",
        "        q.append(u)\n",
        "\n",
        "for x in range(n):\n",
        "  if not discovered[x]:\n",
        "    BFS_AdjLists(graph, x, discovered)\n",
        "'''\n",
        "from collections import deque\n",
        "def BFS(graph, start_vertex, distances, shortest_paths, num_shortest_paths):\n",
        "    # previously we used a list called discovered to keep track of the vertices we've visited\n",
        "    # since our network is more complicated now we need to convert discovered to a dictionary\n",
        "    ### lets put it inside the function this time\n",
        "    discovered = {}\n",
        "\n",
        "    for vert in graph.vertList:\n",
        "      discovered[vert] = False\n",
        "\n",
        "    # just as before we begin by marking the starting vertex as discovered (False to True)\n",
        "    ### but now we need to keep track of the distance\n",
        "    ### we also need to keep track of how many shortest paths there are for a given vertex\n",
        "    ### lets make our queue as before\n",
        "    ##### while queue is not Empty, dequeue the current vertex as before\n",
        "\n",
        "    distances[start_vertex] = 0\n",
        "    num_shortest_paths[start_vertex] = 1\n",
        "\n",
        "    q = deque()\n",
        "    discovered[start_vertex] = True\n",
        "    q.append(start_vertex)\n",
        "\n",
        "    ######### now instead of iterating through items in teh adjaceny list, where do we iterate?\n",
        "    #################. how do we check if the neighbor has been discovered?\n",
        "    #################.  what would make us update the distances & what would make us update shortest_paths\n",
        "    while q:\n",
        "      current_vertex = q.popleft()\n",
        "      for neighbor in graph.vertList[current_vertex].connectedTo:\n",
        "        if discovered[neighbor.id] == False:\n",
        "          discovered[neighbor.id] = True\n",
        "          q.append(neighbor.id)\n",
        "\n",
        "          if distances[neighbor.id] == -1:\n",
        "            distances[neighbor.id] = distances[current_vertex] + 1\n",
        "\n",
        "          if distances[neighbor.id] == distances[current_vertex] + 1:\n",
        "             shortest_paths[neighbor.id].append(current_vertex)\n",
        "             num_shortest_paths[neighbor.id] += num_shortest_paths[current_vertex]\n",
        "\n",
        "\n"
      ]
    },
    {
      "cell_type": "code",
      "execution_count": null,
      "metadata": {
        "id": "fLcUD3LBKz8A"
      },
      "outputs": [],
      "source": []
    },
    {
      "cell_type": "code",
      "execution_count": 49,
      "metadata": {
        "id": "kPBlXIZUOR0k"
      },
      "outputs": [
        {
          "ename": "NameError",
          "evalue": "name 'QuakerCentrality' is not defined",
          "output_type": "error",
          "traceback": [
            "\u001b[0;31m---------------------------------------------------------------------------\u001b[0m",
            "\u001b[0;31mNameError\u001b[0m                                 Traceback (most recent call last)",
            "\u001b[1;32m/Users/melodywang/Downloads/Working_Copy_of_Quakers.ipynb Cell 18\u001b[0m line \u001b[0;36m4\n\u001b[1;32m      <a href='vscode-notebook-cell:/Users/melodywang/Downloads/Working_Copy_of_Quakers.ipynb#X24sZmlsZQ%3D%3D?line=0'>1</a>\u001b[0m \u001b[39mimport\u001b[39;00m \u001b[39mmatplotlib\u001b[39;00m\u001b[39m.\u001b[39;00m\u001b[39mpyplot\u001b[39;00m \u001b[39mas\u001b[39;00m \u001b[39mplt\u001b[39;00m\n\u001b[1;32m      <a href='vscode-notebook-cell:/Users/melodywang/Downloads/Working_Copy_of_Quakers.ipynb#X24sZmlsZQ%3D%3D?line=2'>3</a>\u001b[0m QuakerMembers \u001b[39m=\u001b[39m \u001b[39mlist\u001b[39m(ConnectedQuakers\u001b[39m.\u001b[39mkeys())\n\u001b[0;32m----> <a href='vscode-notebook-cell:/Users/melodywang/Downloads/Working_Copy_of_Quakers.ipynb#X24sZmlsZQ%3D%3D?line=3'>4</a>\u001b[0m QCentrality \u001b[39m=\u001b[39m [QuakerCentrality[key] \u001b[39mfor\u001b[39;00m key \u001b[39min\u001b[39;00m QuakerMembers]\n\u001b[1;32m      <a href='vscode-notebook-cell:/Users/melodywang/Downloads/Working_Copy_of_Quakers.ipynb#X24sZmlsZQ%3D%3D?line=4'>5</a>\u001b[0m QDegree \u001b[39m=\u001b[39m [ConnectedQuakers[key] \u001b[39mfor\u001b[39;00m key \u001b[39min\u001b[39;00m QuakerMembers]\n\u001b[1;32m      <a href='vscode-notebook-cell:/Users/melodywang/Downloads/Working_Copy_of_Quakers.ipynb#X24sZmlsZQ%3D%3D?line=6'>7</a>\u001b[0m fig, ax \u001b[39m=\u001b[39m plt\u001b[39m.\u001b[39msubplots()\n",
            "\u001b[1;32m/Users/melodywang/Downloads/Working_Copy_of_Quakers.ipynb Cell 18\u001b[0m line \u001b[0;36m4\n\u001b[1;32m      <a href='vscode-notebook-cell:/Users/melodywang/Downloads/Working_Copy_of_Quakers.ipynb#X24sZmlsZQ%3D%3D?line=0'>1</a>\u001b[0m \u001b[39mimport\u001b[39;00m \u001b[39mmatplotlib\u001b[39;00m\u001b[39m.\u001b[39;00m\u001b[39mpyplot\u001b[39;00m \u001b[39mas\u001b[39;00m \u001b[39mplt\u001b[39;00m\n\u001b[1;32m      <a href='vscode-notebook-cell:/Users/melodywang/Downloads/Working_Copy_of_Quakers.ipynb#X24sZmlsZQ%3D%3D?line=2'>3</a>\u001b[0m QuakerMembers \u001b[39m=\u001b[39m \u001b[39mlist\u001b[39m(ConnectedQuakers\u001b[39m.\u001b[39mkeys())\n\u001b[0;32m----> <a href='vscode-notebook-cell:/Users/melodywang/Downloads/Working_Copy_of_Quakers.ipynb#X24sZmlsZQ%3D%3D?line=3'>4</a>\u001b[0m QCentrality \u001b[39m=\u001b[39m [QuakerCentrality[key] \u001b[39mfor\u001b[39;00m key \u001b[39min\u001b[39;00m QuakerMembers]\n\u001b[1;32m      <a href='vscode-notebook-cell:/Users/melodywang/Downloads/Working_Copy_of_Quakers.ipynb#X24sZmlsZQ%3D%3D?line=4'>5</a>\u001b[0m QDegree \u001b[39m=\u001b[39m [ConnectedQuakers[key] \u001b[39mfor\u001b[39;00m key \u001b[39min\u001b[39;00m QuakerMembers]\n\u001b[1;32m      <a href='vscode-notebook-cell:/Users/melodywang/Downloads/Working_Copy_of_Quakers.ipynb#X24sZmlsZQ%3D%3D?line=6'>7</a>\u001b[0m fig, ax \u001b[39m=\u001b[39m plt\u001b[39m.\u001b[39msubplots()\n",
            "\u001b[0;31mNameError\u001b[0m: name 'QuakerCentrality' is not defined"
          ]
        }
      ],
      "source": [
        "import matplotlib.pyplot as plt\n",
        "\n",
        "QuakerMembers = list(ConnectedQuakers.keys())\n",
        "QCentrality = [QuakerCentrality[key] for key in QuakerMembers]\n",
        "QDegree = [ConnectedQuakers[key] for key in QuakerMembers]\n",
        "\n",
        "fig, ax = plt.subplots()\n",
        "ax.scatter(QDegree, QCentrality)\n",
        "\n",
        "\n",
        "for i, txt in enumerate(QuakerMembers):\n",
        "   ax.annotate(txt, ((QDegree[i]-2), QCentrality[i]+2))\n",
        "ax.set_ylabel('Betweenness Centrality')\n",
        "ax.set_xlabel('Degree')\n",
        "ax.set_xticks([0,1,2,3,4,5,6,7,8,9,10,15,20]);"
      ]
    },
    {
      "cell_type": "code",
      "execution_count": null,
      "metadata": {
        "id": "c-A9FRjvKC8N"
      },
      "outputs": [],
      "source": []
    }
  ],
  "metadata": {
    "colab": {
      "provenance": []
    },
    "kernelspec": {
      "display_name": "Python 3",
      "name": "python3"
    },
    "language_info": {
      "codemirror_mode": {
        "name": "ipython",
        "version": 3
      },
      "file_extension": ".py",
      "mimetype": "text/x-python",
      "name": "python",
      "nbconvert_exporter": "python",
      "pygments_lexer": "ipython3",
      "version": "3.8.9"
    }
  },
  "nbformat": 4,
  "nbformat_minor": 0
}
